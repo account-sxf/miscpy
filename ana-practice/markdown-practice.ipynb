{
 "cells": [
  {
   "source": [
    "# Heading\n",
    "Body content body content is body content and body content. If you look at:\n",
    "\n",
    "- list content\n",
    "- Other list content\n",
    "- And this list content\n",
    "\n",
    "You can see that there are paragraphs\n",
    "\n",
    "## Under This Subheading\n",
    "\n",
    "We can see more body paragraphs:\n",
    "\n",
    "1. This is cool.\n",
    "    1. Sublist\n",
    "    2. Item\n",
    "2. It's a list.\n",
    "3. Etc you see.\n",
    "\n",
    "### Now check out this python example"
   ],
   "cell_type": "markdown",
   "metadata": {}
  },
  {
   "cell_type": "code",
   "execution_count": 1,
   "metadata": {},
   "outputs": [],
   "source": [
    "i = 45"
   ]
  },
  {
   "cell_type": "code",
   "execution_count": 2,
   "metadata": {},
   "outputs": [
    {
     "name": "stdout",
     "output_type": "stream",
     "text": [
      "45\n"
     ]
    }
   ],
   "source": [
    "print(i)"
   ]
  },
  {
   "source": [
    "**Here's some more markdown here**"
   ],
   "cell_type": "markdown",
   "metadata": {}
  }
 ],
 "metadata": {
  "kernelspec": {
   "display_name": "Python 3",
   "language": "python",
   "name": "python3"
  },
  "language_info": {
   "codemirror_mode": {
    "name": "ipython",
    "version": 3
   },
   "file_extension": ".py",
   "mimetype": "text/x-python",
   "name": "python",
   "nbconvert_exporter": "python",
   "pygments_lexer": "ipython3",
   "version": "3.8.5-final"
  }
 },
 "nbformat": 4,
 "nbformat_minor": 2
}