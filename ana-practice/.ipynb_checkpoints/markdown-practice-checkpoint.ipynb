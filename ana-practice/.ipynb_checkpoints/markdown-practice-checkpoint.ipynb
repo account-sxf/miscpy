{
 "cells": [
  {
   "cell_type": "markdown",
   "metadata": {},
   "source": [
    "# Heading\n",
    "Body content body content is body content and body content. If you look at:\n",
    "- list content\n",
    "- Other list content\n",
    "- And this list content\n",
    "\n",
    "You can see that there are paragraphs\n",
    "\n",
    "## Under This Subheading\n",
    "We can see more body paragraphs:\n",
    "1. This is cool\n",
    "2. It's a list\n",
    "3. Etc, you see.\n",
    "\n",
    "### Now check out this python example"
   ]
  },
  {
   "cell_type": "code",
   "execution_count": 1,
   "metadata": {},
   "outputs": [],
   "source": [
    "i = 45"
   ]
  },
  {
   "cell_type": "code",
   "execution_count": 2,
   "metadata": {},
   "outputs": [
    {
     "name": "stdout",
     "output_type": "stream",
     "text": [
      "45\n"
     ]
    }
   ],
   "source": [
    "print(i)"
   ]
  },
  {
   "cell_type": "code",
   "execution_count": null,
   "metadata": {},
   "outputs": [],
   "source": []
  }
 ],
 "metadata": {
  "kernelspec": {
   "display_name": "Python 3",
   "language": "python",
   "name": "python3"
  },
  "language_info": {
   "codemirror_mode": {
    "name": "ipython",
    "version": 3
   },
   "file_extension": ".py",
   "mimetype": "text/x-python",
   "name": "python",
   "nbconvert_exporter": "python",
   "pygments_lexer": "ipython3",
   "version": "3.6.5"
  }
 },
 "nbformat": 4,
 "nbformat_minor": 2
}
